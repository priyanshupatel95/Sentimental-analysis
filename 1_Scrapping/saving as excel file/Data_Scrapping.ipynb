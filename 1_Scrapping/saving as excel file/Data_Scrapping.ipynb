{
  "cells": [
    {
      "cell_type": "code",
      "source": [
        "#@title Data Scrapping\n",
        "\n"
      ],
      "metadata": {
        "id": "ROxed_X8hIi4"
      },
      "id": "ROxed_X8hIi4",
      "execution_count": 1,
      "outputs": []
    },
    {
      "cell_type": "code",
      "execution_count": null,
      "id": "777f250d-93f6-4b11-bbf3-6bebe4de9620",
      "metadata": {
        "id": "777f250d-93f6-4b11-bbf3-6bebe4de9620"
      },
      "outputs": [],
      "source": [
        "import pandas as pd\n",
        "import requests\n",
        "from bs4 import BeautifulSoup\n",
        "import urllib.request\n",
        "from urllib.parse import urlparse"
      ]
    },
    {
      "cell_type": "code",
      "execution_count": null,
      "id": "9f24ceb0-5966-4b2a-84b9-ca44752658d6",
      "metadata": {
        "colab": {
          "base_uri": "https://localhost:8080/"
        },
        "id": "9f24ceb0-5966-4b2a-84b9-ca44752658d6",
        "outputId": "e9a693d0-d957-4fa3-d13b-85bf725f7ea6"
      },
      "outputs": [
        {
          "output_type": "stream",
          "name": "stdout",
          "text": [
            "     URL_ID                                                URL\n",
            "0        37  https://insights.blackcoffer.com/ai-in-healthc...\n",
            "1        38  https://insights.blackcoffer.com/what-if-the-c...\n",
            "2        39  https://insights.blackcoffer.com/what-jobs-wil...\n",
            "3        40  https://insights.blackcoffer.com/will-machine-...\n",
            "4        41  https://insights.blackcoffer.com/will-ai-repla...\n",
            "..      ...                                                ...\n",
            "109     146  https://insights.blackcoffer.com/blockchain-fo...\n",
            "110     147  https://insights.blackcoffer.com/the-future-of...\n",
            "111     148  https://insights.blackcoffer.com/big-data-anal...\n",
            "112     149  https://insights.blackcoffer.com/business-anal...\n",
            "113     150  https://insights.blackcoffer.com/challenges-an...\n",
            "\n",
            "[114 rows x 2 columns]\n"
          ]
        }
      ],
      "source": [
        "import pandas as pd\n",
        "df=pd.read_excel('Input.xlsx', dtype={'URL_ID':int,})\n",
        "print(df)"
      ]
    },
    {
      "cell_type": "code",
      "source": [],
      "metadata": {
        "id": "yD6HYz20_08l"
      },
      "id": "yD6HYz20_08l",
      "execution_count": null,
      "outputs": []
    },
    {
      "cell_type": "code",
      "execution_count": null,
      "id": "7893fb02-9416-4a32-8509-424191950a62",
      "metadata": {
        "colab": {
          "base_uri": "https://localhost:8080/",
          "height": 206
        },
        "id": "7893fb02-9416-4a32-8509-424191950a62",
        "outputId": "76afa3b7-3cf2-4ab2-e41f-abc3e49ddbd9"
      },
      "outputs": [
        {
          "output_type": "execute_result",
          "data": {
            "text/plain": [
              "   url_id                                                url  \\\n",
              "0      37  https://insights.blackcoffer.com/ai-in-healthc...   \n",
              "1      38  https://insights.blackcoffer.com/what-if-the-c...   \n",
              "2      39  https://insights.blackcoffer.com/what-jobs-wil...   \n",
              "3      40  https://insights.blackcoffer.com/will-machine-...   \n",
              "4      41  https://insights.blackcoffer.com/will-ai-repla...   \n",
              "\n",
              "                                               Title  \\\n",
              "0  AI in healthcare to Improve Patient Outcomes -...   \n",
              "1  What if the Creation is Taking Over the Creato...   \n",
              "2  What Jobs Will Robots Take From Humans in The ...   \n",
              "3  Will Machine Replace The Human in the Future o...   \n",
              "4  Will AI Replace Us or Work With Us? - Blackcof...   \n",
              "\n",
              "                                         Web content  \n",
              "0   Introduction “If anything kills over 10 milli...  \n",
              "1   Human minds, a fascination in itself carrying...  \n",
              "2   Introduction AI is rapidly evolving in the em...  \n",
              "3   “Anything that could give rise to smarter-tha...  \n",
              "4   “Machine intelligence is the last invention t...  "
            ],
            "text/html": [
              "\n",
              "  <div id=\"df-e6ef0b92-b662-431a-91f2-f5cbbf7c08d0\">\n",
              "    <div class=\"colab-df-container\">\n",
              "      <div>\n",
              "<style scoped>\n",
              "    .dataframe tbody tr th:only-of-type {\n",
              "        vertical-align: middle;\n",
              "    }\n",
              "\n",
              "    .dataframe tbody tr th {\n",
              "        vertical-align: top;\n",
              "    }\n",
              "\n",
              "    .dataframe thead th {\n",
              "        text-align: right;\n",
              "    }\n",
              "</style>\n",
              "<table border=\"1\" class=\"dataframe\">\n",
              "  <thead>\n",
              "    <tr style=\"text-align: right;\">\n",
              "      <th></th>\n",
              "      <th>url_id</th>\n",
              "      <th>url</th>\n",
              "      <th>Title</th>\n",
              "      <th>Web content</th>\n",
              "    </tr>\n",
              "  </thead>\n",
              "  <tbody>\n",
              "    <tr>\n",
              "      <th>0</th>\n",
              "      <td>37</td>\n",
              "      <td>https://insights.blackcoffer.com/ai-in-healthc...</td>\n",
              "      <td>AI in healthcare to Improve Patient Outcomes -...</td>\n",
              "      <td>Introduction “If anything kills over 10 milli...</td>\n",
              "    </tr>\n",
              "    <tr>\n",
              "      <th>1</th>\n",
              "      <td>38</td>\n",
              "      <td>https://insights.blackcoffer.com/what-if-the-c...</td>\n",
              "      <td>What if the Creation is Taking Over the Creato...</td>\n",
              "      <td>Human minds, a fascination in itself carrying...</td>\n",
              "    </tr>\n",
              "    <tr>\n",
              "      <th>2</th>\n",
              "      <td>39</td>\n",
              "      <td>https://insights.blackcoffer.com/what-jobs-wil...</td>\n",
              "      <td>What Jobs Will Robots Take From Humans in The ...</td>\n",
              "      <td>Introduction AI is rapidly evolving in the em...</td>\n",
              "    </tr>\n",
              "    <tr>\n",
              "      <th>3</th>\n",
              "      <td>40</td>\n",
              "      <td>https://insights.blackcoffer.com/will-machine-...</td>\n",
              "      <td>Will Machine Replace The Human in the Future o...</td>\n",
              "      <td>“Anything that could give rise to smarter-tha...</td>\n",
              "    </tr>\n",
              "    <tr>\n",
              "      <th>4</th>\n",
              "      <td>41</td>\n",
              "      <td>https://insights.blackcoffer.com/will-ai-repla...</td>\n",
              "      <td>Will AI Replace Us or Work With Us? - Blackcof...</td>\n",
              "      <td>“Machine intelligence is the last invention t...</td>\n",
              "    </tr>\n",
              "  </tbody>\n",
              "</table>\n",
              "</div>\n",
              "      <button class=\"colab-df-convert\" onclick=\"convertToInteractive('df-e6ef0b92-b662-431a-91f2-f5cbbf7c08d0')\"\n",
              "              title=\"Convert this dataframe to an interactive table.\"\n",
              "              style=\"display:none;\">\n",
              "        \n",
              "  <svg xmlns=\"http://www.w3.org/2000/svg\" height=\"24px\"viewBox=\"0 0 24 24\"\n",
              "       width=\"24px\">\n",
              "    <path d=\"M0 0h24v24H0V0z\" fill=\"none\"/>\n",
              "    <path d=\"M18.56 5.44l.94 2.06.94-2.06 2.06-.94-2.06-.94-.94-2.06-.94 2.06-2.06.94zm-11 1L8.5 8.5l.94-2.06 2.06-.94-2.06-.94L8.5 2.5l-.94 2.06-2.06.94zm10 10l.94 2.06.94-2.06 2.06-.94-2.06-.94-.94-2.06-.94 2.06-2.06.94z\"/><path d=\"M17.41 7.96l-1.37-1.37c-.4-.4-.92-.59-1.43-.59-.52 0-1.04.2-1.43.59L10.3 9.45l-7.72 7.72c-.78.78-.78 2.05 0 2.83L4 21.41c.39.39.9.59 1.41.59.51 0 1.02-.2 1.41-.59l7.78-7.78 2.81-2.81c.8-.78.8-2.07 0-2.86zM5.41 20L4 18.59l7.72-7.72 1.47 1.35L5.41 20z\"/>\n",
              "  </svg>\n",
              "      </button>\n",
              "      \n",
              "  <style>\n",
              "    .colab-df-container {\n",
              "      display:flex;\n",
              "      flex-wrap:wrap;\n",
              "      gap: 12px;\n",
              "    }\n",
              "\n",
              "    .colab-df-convert {\n",
              "      background-color: #E8F0FE;\n",
              "      border: none;\n",
              "      border-radius: 50%;\n",
              "      cursor: pointer;\n",
              "      display: none;\n",
              "      fill: #1967D2;\n",
              "      height: 32px;\n",
              "      padding: 0 0 0 0;\n",
              "      width: 32px;\n",
              "    }\n",
              "\n",
              "    .colab-df-convert:hover {\n",
              "      background-color: #E2EBFA;\n",
              "      box-shadow: 0px 1px 2px rgba(60, 64, 67, 0.3), 0px 1px 3px 1px rgba(60, 64, 67, 0.15);\n",
              "      fill: #174EA6;\n",
              "    }\n",
              "\n",
              "    [theme=dark] .colab-df-convert {\n",
              "      background-color: #3B4455;\n",
              "      fill: #D2E3FC;\n",
              "    }\n",
              "\n",
              "    [theme=dark] .colab-df-convert:hover {\n",
              "      background-color: #434B5C;\n",
              "      box-shadow: 0px 1px 3px 1px rgba(0, 0, 0, 0.15);\n",
              "      filter: drop-shadow(0px 1px 2px rgba(0, 0, 0, 0.3));\n",
              "      fill: #FFFFFF;\n",
              "    }\n",
              "  </style>\n",
              "\n",
              "      <script>\n",
              "        const buttonEl =\n",
              "          document.querySelector('#df-e6ef0b92-b662-431a-91f2-f5cbbf7c08d0 button.colab-df-convert');\n",
              "        buttonEl.style.display =\n",
              "          google.colab.kernel.accessAllowed ? 'block' : 'none';\n",
              "\n",
              "        async function convertToInteractive(key) {\n",
              "          const element = document.querySelector('#df-e6ef0b92-b662-431a-91f2-f5cbbf7c08d0');\n",
              "          const dataTable =\n",
              "            await google.colab.kernel.invokeFunction('convertToInteractive',\n",
              "                                                     [key], {});\n",
              "          if (!dataTable) return;\n",
              "\n",
              "          const docLinkHtml = 'Like what you see? Visit the ' +\n",
              "            '<a target=\"_blank\" href=https://colab.research.google.com/notebooks/data_table.ipynb>data table notebook</a>'\n",
              "            + ' to learn more about interactive tables.';\n",
              "          element.innerHTML = '';\n",
              "          dataTable['output_type'] = 'display_data';\n",
              "          await google.colab.output.renderOutput(dataTable, element);\n",
              "          const docLink = document.createElement('div');\n",
              "          docLink.innerHTML = docLinkHtml;\n",
              "          element.appendChild(docLink);\n",
              "        }\n",
              "      </script>\n",
              "    </div>\n",
              "  </div>\n",
              "  "
            ]
          },
          "metadata": {},
          "execution_count": 8
        }
      ],
      "source": [
        "Df.head()"
      ]
    },
    {
      "cell_type": "code",
      "execution_count": null,
      "id": "c2fd4881-fa9d-4c86-b377-fbf8bc61742a",
      "metadata": {
        "id": "c2fd4881-fa9d-4c86-b377-fbf8bc61742a"
      },
      "outputs": [],
      "source": [
        "headers={\n",
        "    'User-Agent': 'Mozilla/5.0 (Macintosh; Intel Mac OS X 10.12; rv:55.0) Gecko/20100101 Firefox/55.0',\n",
        "}\n",
        "data = df.URL\n",
        "name = df.URL_ID\n",
        "Data = []\n",
        "count=0\n",
        "for url, i in zip(data, name):\n",
        "    page=requests.get(url)\n",
        "    if(page.status_code==200):\n",
        "      page = requests.get(url,headers=headers).text\n",
        "      soup = BeautifulSoup(page,\"html.parser\")\n",
        "      web_content = soup.find(attrs = {'class':'td-post-content'}).text.replace('\\n', \" \")\n",
        "      titles = soup.find(\"title\").string\n",
        "      Data.insert(i,[i,url,titles,web_content])\n",
        "Df = pd.DataFrame(Data, columns = [ 'url_id','url','Title','Web content'])\n",
        "# print(Df)\n",
        "Df.to_excel('final_extracted.xlsx')\n",
        "   "
      ]
    }
  ],
  "metadata": {
    "kernelspec": {
      "display_name": "Python 3 (ipykernel)",
      "language": "python",
      "name": "python3"
    },
    "language_info": {
      "codemirror_mode": {
        "name": "ipython",
        "version": 3
      },
      "file_extension": ".py",
      "mimetype": "text/x-python",
      "name": "python",
      "nbconvert_exporter": "python",
      "pygments_lexer": "ipython3",
      "version": "3.9.12"
    },
    "colab": {
      "provenance": [],
      "toc_visible": true
    }
  },
  "nbformat": 4,
  "nbformat_minor": 5
}