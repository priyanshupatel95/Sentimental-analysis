{
 "cells": [
  {
   "cell_type": "code",
   "execution_count": 1,
   "id": "33cef760-bef9-4188-a5b7-5115ab7ca1b0",
   "metadata": {},
   "outputs": [],
   "source": [
    "import pandas as pd\n",
    "import numpy as np\n"
   ]
  },
  {
   "cell_type": "code",
   "execution_count": 2,
   "id": "1054f3fa-1096-421c-ada1-5e943fa2e692",
   "metadata": {},
   "outputs": [],
   "source": [
    "df = pd.read_excel('final_extracted.xlsx')"
   ]
  },
  {
   "cell_type": "code",
   "execution_count": 3,
   "id": "73940f0b-3485-4a22-ada8-58fed30999d1",
   "metadata": {},
   "outputs": [
    {
     "data": {
      "text/html": [
       "<div>\n",
       "<style scoped>\n",
       "    .dataframe tbody tr th:only-of-type {\n",
       "        vertical-align: middle;\n",
       "    }\n",
       "\n",
       "    .dataframe tbody tr th {\n",
       "        vertical-align: top;\n",
       "    }\n",
       "\n",
       "    .dataframe thead th {\n",
       "        text-align: right;\n",
       "    }\n",
       "</style>\n",
       "<table border=\"1\" class=\"dataframe\">\n",
       "  <thead>\n",
       "    <tr style=\"text-align: right;\">\n",
       "      <th></th>\n",
       "      <th>Unnamed: 0</th>\n",
       "      <th>url_id</th>\n",
       "      <th>url</th>\n",
       "      <th>Title</th>\n",
       "      <th>Web content</th>\n",
       "    </tr>\n",
       "  </thead>\n",
       "  <tbody>\n",
       "    <tr>\n",
       "      <th>0</th>\n",
       "      <td>0</td>\n",
       "      <td>37</td>\n",
       "      <td>https://insights.blackcoffer.com/ai-in-healthc...</td>\n",
       "      <td>AI in healthcare to Improve Patient Outcomes -...</td>\n",
       "      <td>Introduction “If anything kills over 10 milli...</td>\n",
       "    </tr>\n",
       "    <tr>\n",
       "      <th>1</th>\n",
       "      <td>1</td>\n",
       "      <td>38</td>\n",
       "      <td>https://insights.blackcoffer.com/what-if-the-c...</td>\n",
       "      <td>What if the Creation is Taking Over the Creato...</td>\n",
       "      <td>Human minds, a fascination in itself carrying...</td>\n",
       "    </tr>\n",
       "    <tr>\n",
       "      <th>2</th>\n",
       "      <td>2</td>\n",
       "      <td>39</td>\n",
       "      <td>https://insights.blackcoffer.com/what-jobs-wil...</td>\n",
       "      <td>What Jobs Will Robots Take From Humans in The ...</td>\n",
       "      <td>Introduction AI is rapidly evolving in the em...</td>\n",
       "    </tr>\n",
       "    <tr>\n",
       "      <th>3</th>\n",
       "      <td>3</td>\n",
       "      <td>40</td>\n",
       "      <td>https://insights.blackcoffer.com/will-machine-...</td>\n",
       "      <td>Will Machine Replace The Human in the Future o...</td>\n",
       "      <td>“Anything that could give rise to smarter-tha...</td>\n",
       "    </tr>\n",
       "    <tr>\n",
       "      <th>4</th>\n",
       "      <td>4</td>\n",
       "      <td>41</td>\n",
       "      <td>https://insights.blackcoffer.com/will-ai-repla...</td>\n",
       "      <td>Will AI Replace Us or Work With Us? - Blackcof...</td>\n",
       "      <td>“Machine intelligence is the last invention t...</td>\n",
       "    </tr>\n",
       "  </tbody>\n",
       "</table>\n",
       "</div>"
      ],
      "text/plain": [
       "   Unnamed: 0  url_id                                                url  \\\n",
       "0           0      37  https://insights.blackcoffer.com/ai-in-healthc...   \n",
       "1           1      38  https://insights.blackcoffer.com/what-if-the-c...   \n",
       "2           2      39  https://insights.blackcoffer.com/what-jobs-wil...   \n",
       "3           3      40  https://insights.blackcoffer.com/will-machine-...   \n",
       "4           4      41  https://insights.blackcoffer.com/will-ai-repla...   \n",
       "\n",
       "                                               Title  \\\n",
       "0  AI in healthcare to Improve Patient Outcomes -...   \n",
       "1  What if the Creation is Taking Over the Creato...   \n",
       "2  What Jobs Will Robots Take From Humans in The ...   \n",
       "3  Will Machine Replace The Human in the Future o...   \n",
       "4  Will AI Replace Us or Work With Us? - Blackcof...   \n",
       "\n",
       "                                         Web content  \n",
       "0   Introduction “If anything kills over 10 milli...  \n",
       "1   Human minds, a fascination in itself carrying...  \n",
       "2   Introduction AI is rapidly evolving in the em...  \n",
       "3   “Anything that could give rise to smarter-tha...  \n",
       "4   “Machine intelligence is the last invention t...  "
      ]
     },
     "execution_count": 3,
     "metadata": {},
     "output_type": "execute_result"
    }
   ],
   "source": [
    "df.head()"
   ]
  },
  {
   "cell_type": "code",
   "execution_count": 4,
   "id": "4ff661f4-ae1a-4cd7-b608-07d803e28469",
   "metadata": {},
   "outputs": [
    {
     "data": {
      "text/plain": [
       "<bound method DataFrame.info of      Unnamed: 0  url_id                                                url  \\\n",
       "0             0      37  https://insights.blackcoffer.com/ai-in-healthc...   \n",
       "1             1      38  https://insights.blackcoffer.com/what-if-the-c...   \n",
       "2             2      39  https://insights.blackcoffer.com/what-jobs-wil...   \n",
       "3             3      40  https://insights.blackcoffer.com/will-machine-...   \n",
       "4             4      41  https://insights.blackcoffer.com/will-ai-repla...   \n",
       "..          ...     ...                                                ...   \n",
       "106         106     146  https://insights.blackcoffer.com/blockchain-fo...   \n",
       "107         107     147  https://insights.blackcoffer.com/the-future-of...   \n",
       "108         108     148  https://insights.blackcoffer.com/big-data-anal...   \n",
       "109         109     149  https://insights.blackcoffer.com/business-anal...   \n",
       "110         110     150  https://insights.blackcoffer.com/challenges-an...   \n",
       "\n",
       "                                                 Title  \\\n",
       "0    AI in healthcare to Improve Patient Outcomes -...   \n",
       "1    What if the Creation is Taking Over the Creato...   \n",
       "2    What Jobs Will Robots Take From Humans in The ...   \n",
       "3    Will Machine Replace The Human in the Future o...   \n",
       "4    Will AI Replace Us or Work With Us? - Blackcof...   \n",
       "..                                                 ...   \n",
       "106     Blockchain for Payments - Blackcoffer Insights   \n",
       "107     The future of Investing - Blackcoffer Insights   \n",
       "108  Big Data Analytics in Healthcare - Blackcoffer...   \n",
       "109  Business Analytics In The Healthcare Industry ...   \n",
       "110  Challenges and Opportunities of Big Data in He...   \n",
       "\n",
       "                                           Web content  \n",
       "0     Introduction “If anything kills over 10 milli...  \n",
       "1     Human minds, a fascination in itself carrying...  \n",
       "2     Introduction AI is rapidly evolving in the em...  \n",
       "3     “Anything that could give rise to smarter-tha...  \n",
       "4     “Machine intelligence is the last invention t...  \n",
       "..                                                 ...  \n",
       "106   Reconciling with the financial realities of a...  \n",
       "107   What Is an Investment? An investment is a res...  \n",
       "108   Quality and affordable healthcare is a vision...  \n",
       "109   Analytics is a statistical scientific process...  \n",
       "110   Big Data To begin with I shall first like to ...  \n",
       "\n",
       "[111 rows x 5 columns]>"
      ]
     },
     "execution_count": 4,
     "metadata": {},
     "output_type": "execute_result"
    }
   ],
   "source": [
    "df.info"
   ]
  },
  {
   "cell_type": "code",
   "execution_count": 6,
   "id": "96356b6b-6ae1-47ba-8ca5-834bb6c53a39",
   "metadata": {},
   "outputs": [],
   "source": [
    "new_df = pd.DataFrame( columns = ['Url_id','clean_content'])"
   ]
  },
  {
   "cell_type": "code",
   "execution_count": 7,
   "id": "404ce414-58fe-49e2-a008-05f46427b853",
   "metadata": {},
   "outputs": [
    {
     "data": {
      "text/html": [
       "<div>\n",
       "<style scoped>\n",
       "    .dataframe tbody tr th:only-of-type {\n",
       "        vertical-align: middle;\n",
       "    }\n",
       "\n",
       "    .dataframe tbody tr th {\n",
       "        vertical-align: top;\n",
       "    }\n",
       "\n",
       "    .dataframe thead th {\n",
       "        text-align: right;\n",
       "    }\n",
       "</style>\n",
       "<table border=\"1\" class=\"dataframe\">\n",
       "  <thead>\n",
       "    <tr style=\"text-align: right;\">\n",
       "      <th></th>\n",
       "      <th>Url_id</th>\n",
       "      <th>clean_content</th>\n",
       "    </tr>\n",
       "  </thead>\n",
       "  <tbody>\n",
       "    <tr>\n",
       "      <th>0</th>\n",
       "      <td>37</td>\n",
       "      <td>NaN</td>\n",
       "    </tr>\n",
       "    <tr>\n",
       "      <th>1</th>\n",
       "      <td>38</td>\n",
       "      <td>NaN</td>\n",
       "    </tr>\n",
       "    <tr>\n",
       "      <th>2</th>\n",
       "      <td>39</td>\n",
       "      <td>NaN</td>\n",
       "    </tr>\n",
       "    <tr>\n",
       "      <th>3</th>\n",
       "      <td>40</td>\n",
       "      <td>NaN</td>\n",
       "    </tr>\n",
       "    <tr>\n",
       "      <th>4</th>\n",
       "      <td>41</td>\n",
       "      <td>NaN</td>\n",
       "    </tr>\n",
       "  </tbody>\n",
       "</table>\n",
       "</div>"
      ],
      "text/plain": [
       "   Url_id clean_content\n",
       "0      37           NaN\n",
       "1      38           NaN\n",
       "2      39           NaN\n",
       "3      40           NaN\n",
       "4      41           NaN"
      ]
     },
     "execution_count": 7,
     "metadata": {},
     "output_type": "execute_result"
    }
   ],
   "source": [
    "new_df['Url_id'] = df['url_id']\n",
    "new_df.head()"
   ]
  },
  {
   "cell_type": "code",
   "execution_count": 8,
   "id": "31d1b3e9-7202-4922-8c0a-17def06e5b78",
   "metadata": {},
   "outputs": [
    {
     "data": {
      "text/plain": [
       "0     Introduction “If anything kills over 10 milli...\n",
       "1     Human minds, a fascination in itself carrying...\n",
       "2     Introduction AI is rapidly evolving in the em...\n",
       "3     “Anything that could give rise to smarter-tha...\n",
       "4     “Machine intelligence is the last invention t...\n",
       "Name: Web content, dtype: object"
      ]
     },
     "execution_count": 8,
     "metadata": {},
     "output_type": "execute_result"
    }
   ],
   "source": [
    "#l = []\n",
    "#for i in range(118):\n",
    "#   l.append(df.iloc[i,3:])\n",
    "#print(l)\n",
    "#for i in range(1):\n",
    "#    print(l[i].values)\n",
    "#j = l[1].values\n",
    "#print(j)\n",
    "content =df['Web content']\n",
    "content.head()"
   ]
  },
  {
   "cell_type": "code",
   "execution_count": 9,
   "id": "95abc1d9-344c-4c48-81bb-b794d461898c",
   "metadata": {},
   "outputs": [],
   "source": [
    "import os \n",
    "os.chdir('files')"
   ]
  },
  {
   "cell_type": "code",
   "execution_count": 10,
   "id": "75ae35e0-5001-4b4b-829c-1f6a23ff5ef5",
   "metadata": {},
   "outputs": [],
   "source": [
    "import string\n",
    "stopwords = [ ]\n",
    "filelist = os.listdir(os.getcwd()) \n",
    "filelist = os.listdir(os.getcwd()) \n",
    "for i in filelist: \n",
    "    try: \n",
    "        with open(i, 'r') as fp: \n",
    "            for line in fp.readlines(): \n",
    "                stopwords.append(\"\".join(line.lower()).replace('\\n', \"\").replace('|',\"\")) \n",
    "    except OSError as error: \n",
    "        print('error %s', error) \n",
    "#print(stopwords)"
   ]
  },
  {
   "cell_type": "code",
   "execution_count": null,
   "id": "e9505d19-bdd5-4256-ba60-744a53bfefbc",
   "metadata": {},
   "outputs": [],
   "source": []
  },
  {
   "cell_type": "code",
   "execution_count": 11,
   "id": "e1f38fdc-2b10-46f0-8d36-ec7db8613858",
   "metadata": {},
   "outputs": [],
   "source": [
    "\n",
    "def  remove_stop(x):\n",
    "    return \",\".join([word for word in str(x).split() if word not in stopwords])\n",
    "content = content.apply(lambda x :remove_stop(x))"
   ]
  },
  {
   "cell_type": "code",
   "execution_count": 12,
   "id": "762955c9-a881-4822-ad5a-fe6579d6c179",
   "metadata": {},
   "outputs": [
    {
     "data": {
      "text/plain": [
       "0    Introduction,“If,kills,10,people,decades,,high...\n",
       "1    Human,minds,,fascination,carrying,potential,ti...\n",
       "2    Introduction,AI,rapidly,evolving,employment,se...\n",
       "3    “Anything,give,rise,smarter-than-human,intelli...\n",
       "4    “Machine,intelligence,invention,humanity,make”...\n",
       "Name: Web content, dtype: object"
      ]
     },
     "execution_count": 12,
     "metadata": {},
     "output_type": "execute_result"
    }
   ],
   "source": [
    "content.head()"
   ]
  },
  {
   "cell_type": "code",
   "execution_count": 13,
   "id": "4564c8c0-5766-4043-8086-5077b82177ce",
   "metadata": {},
   "outputs": [],
   "source": [
    "import re\n",
    "# Define a function to clean the text\n",
    "def clean(x):\n",
    "# Removes all special characters and numericals leaving the alphabets\n",
    "    x = re.sub('[^A-Za-z]+', ' ', x)\n",
    "    return x\n",
    "\n",
    "# Cleaning the text in the review column\n",
    "new_df['clean_content'] = content.apply(lambda x : clean(x))"
   ]
  },
  {
   "cell_type": "code",
   "execution_count": 14,
   "id": "72c713e9-9844-4808-b79a-4184fe933e9a",
   "metadata": {},
   "outputs": [
    {
     "data": {
      "text/html": [
       "<div>\n",
       "<style scoped>\n",
       "    .dataframe tbody tr th:only-of-type {\n",
       "        vertical-align: middle;\n",
       "    }\n",
       "\n",
       "    .dataframe tbody tr th {\n",
       "        vertical-align: top;\n",
       "    }\n",
       "\n",
       "    .dataframe thead th {\n",
       "        text-align: right;\n",
       "    }\n",
       "</style>\n",
       "<table border=\"1\" class=\"dataframe\">\n",
       "  <thead>\n",
       "    <tr style=\"text-align: right;\">\n",
       "      <th></th>\n",
       "      <th>Url_id</th>\n",
       "      <th>clean_content</th>\n",
       "    </tr>\n",
       "  </thead>\n",
       "  <tbody>\n",
       "    <tr>\n",
       "      <th>0</th>\n",
       "      <td>37</td>\n",
       "      <td>Introduction If kills people decades highly in...</td>\n",
       "    </tr>\n",
       "    <tr>\n",
       "      <th>1</th>\n",
       "      <td>38</td>\n",
       "      <td>Human minds fascination carrying potential tin...</td>\n",
       "    </tr>\n",
       "    <tr>\n",
       "      <th>2</th>\n",
       "      <td>39</td>\n",
       "      <td>Introduction AI rapidly evolving employment se...</td>\n",
       "    </tr>\n",
       "    <tr>\n",
       "      <th>3</th>\n",
       "      <td>40</td>\n",
       "      <td>Anything give rise smarter than human intelli...</td>\n",
       "    </tr>\n",
       "    <tr>\n",
       "      <th>4</th>\n",
       "      <td>41</td>\n",
       "      <td>Machine intelligence invention humanity make ...</td>\n",
       "    </tr>\n",
       "  </tbody>\n",
       "</table>\n",
       "</div>"
      ],
      "text/plain": [
       "   Url_id                                      clean_content\n",
       "0      37  Introduction If kills people decades highly in...\n",
       "1      38  Human minds fascination carrying potential tin...\n",
       "2      39  Introduction AI rapidly evolving employment se...\n",
       "3      40   Anything give rise smarter than human intelli...\n",
       "4      41   Machine intelligence invention humanity make ..."
      ]
     },
     "execution_count": 14,
     "metadata": {},
     "output_type": "execute_result"
    }
   ],
   "source": [
    "new_df.head()"
   ]
  },
  {
   "cell_type": "code",
   "execution_count": 15,
   "id": "ce60c8bb-b7e3-449e-b225-2148a095b6b0",
   "metadata": {},
   "outputs": [
    {
     "data": {
      "text/html": [
       "<div>\n",
       "<style scoped>\n",
       "    .dataframe tbody tr th:only-of-type {\n",
       "        vertical-align: middle;\n",
       "    }\n",
       "\n",
       "    .dataframe tbody tr th {\n",
       "        vertical-align: top;\n",
       "    }\n",
       "\n",
       "    .dataframe thead th {\n",
       "        text-align: right;\n",
       "    }\n",
       "</style>\n",
       "<table border=\"1\" class=\"dataframe\">\n",
       "  <thead>\n",
       "    <tr style=\"text-align: right;\">\n",
       "      <th></th>\n",
       "      <th>Url_id</th>\n",
       "      <th>clean_content</th>\n",
       "      <th>no_of_characters</th>\n",
       "    </tr>\n",
       "  </thead>\n",
       "  <tbody>\n",
       "    <tr>\n",
       "      <th>0</th>\n",
       "      <td>37</td>\n",
       "      <td>Introduction If kills people decades highly in...</td>\n",
       "      <td>8877</td>\n",
       "    </tr>\n",
       "    <tr>\n",
       "      <th>1</th>\n",
       "      <td>38</td>\n",
       "      <td>Human minds fascination carrying potential tin...</td>\n",
       "      <td>5158</td>\n",
       "    </tr>\n",
       "    <tr>\n",
       "      <th>2</th>\n",
       "      <td>39</td>\n",
       "      <td>Introduction AI rapidly evolving employment se...</td>\n",
       "      <td>7658</td>\n",
       "    </tr>\n",
       "    <tr>\n",
       "      <th>3</th>\n",
       "      <td>40</td>\n",
       "      <td>Anything give rise smarter than human intelli...</td>\n",
       "      <td>5838</td>\n",
       "    </tr>\n",
       "    <tr>\n",
       "      <th>4</th>\n",
       "      <td>41</td>\n",
       "      <td>Machine intelligence invention humanity make ...</td>\n",
       "      <td>6946</td>\n",
       "    </tr>\n",
       "  </tbody>\n",
       "</table>\n",
       "</div>"
      ],
      "text/plain": [
       "   Url_id                                      clean_content  no_of_characters\n",
       "0      37  Introduction If kills people decades highly in...              8877\n",
       "1      38  Human minds fascination carrying potential tin...              5158\n",
       "2      39  Introduction AI rapidly evolving employment se...              7658\n",
       "3      40   Anything give rise smarter than human intelli...              5838\n",
       "4      41   Machine intelligence invention humanity make ...              6946"
      ]
     },
     "execution_count": 15,
     "metadata": {},
     "output_type": "execute_result"
    }
   ],
   "source": [
    "def word_count(str):\n",
    "    return len(str)\n",
    "new_df['no_of_characters']= new_df['clean_content'].apply(lambda x :word_count(x))\n",
    "new_df.head()"
   ]
  },
  {
   "cell_type": "code",
   "execution_count": 16,
   "id": "4c540d11-e253-4ac9-bf97-b9743d88dfc2",
   "metadata": {},
   "outputs": [
    {
     "data": {
      "text/html": [
       "<div>\n",
       "<style scoped>\n",
       "    .dataframe tbody tr th:only-of-type {\n",
       "        vertical-align: middle;\n",
       "    }\n",
       "\n",
       "    .dataframe tbody tr th {\n",
       "        vertical-align: top;\n",
       "    }\n",
       "\n",
       "    .dataframe thead th {\n",
       "        text-align: right;\n",
       "    }\n",
       "</style>\n",
       "<table border=\"1\" class=\"dataframe\">\n",
       "  <thead>\n",
       "    <tr style=\"text-align: right;\">\n",
       "      <th></th>\n",
       "      <th>Url_id</th>\n",
       "      <th>clean_content</th>\n",
       "      <th>no_of_characters</th>\n",
       "      <th>no_of_sentences</th>\n",
       "    </tr>\n",
       "  </thead>\n",
       "  <tbody>\n",
       "    <tr>\n",
       "      <th>0</th>\n",
       "      <td>37</td>\n",
       "      <td>Introduction If kills people decades highly in...</td>\n",
       "      <td>8877</td>\n",
       "      <td>77</td>\n",
       "    </tr>\n",
       "    <tr>\n",
       "      <th>1</th>\n",
       "      <td>38</td>\n",
       "      <td>Human minds fascination carrying potential tin...</td>\n",
       "      <td>5158</td>\n",
       "      <td>70</td>\n",
       "    </tr>\n",
       "    <tr>\n",
       "      <th>2</th>\n",
       "      <td>39</td>\n",
       "      <td>Introduction AI rapidly evolving employment se...</td>\n",
       "      <td>7658</td>\n",
       "      <td>84</td>\n",
       "    </tr>\n",
       "    <tr>\n",
       "      <th>3</th>\n",
       "      <td>40</td>\n",
       "      <td>Anything give rise smarter than human intelli...</td>\n",
       "      <td>5838</td>\n",
       "      <td>82</td>\n",
       "    </tr>\n",
       "    <tr>\n",
       "      <th>4</th>\n",
       "      <td>41</td>\n",
       "      <td>Machine intelligence invention humanity make ...</td>\n",
       "      <td>6946</td>\n",
       "      <td>81</td>\n",
       "    </tr>\n",
       "  </tbody>\n",
       "</table>\n",
       "</div>"
      ],
      "text/plain": [
       "   Url_id                                      clean_content  \\\n",
       "0      37  Introduction If kills people decades highly in...   \n",
       "1      38  Human minds fascination carrying potential tin...   \n",
       "2      39  Introduction AI rapidly evolving employment se...   \n",
       "3      40   Anything give rise smarter than human intelli...   \n",
       "4      41   Machine intelligence invention humanity make ...   \n",
       "\n",
       "   no_of_characters  no_of_sentences  \n",
       "0              8877               77  \n",
       "1              5158               70  \n",
       "2              7658               84  \n",
       "3              5838               82  \n",
       "4              6946               81  "
      ]
     },
     "execution_count": 16,
     "metadata": {},
     "output_type": "execute_result"
    }
   ],
   "source": [
    "headers = ['fgfg']\n",
    "def sentence_count(str):\n",
    "    return str.count('.')\n",
    "new_df['no_of_sentences'] = content.apply(lambda x : sentence_count(x))\n",
    "new_df.head()"
   ]
  },
  {
   "cell_type": "code",
   "execution_count": 17,
   "id": "570af40a-2dde-483a-bb4e-74ad681daa1e",
   "metadata": {},
   "outputs": [],
   "source": [
    "new_df.to_csv('final_no_case_change_data.csv')"
   ]
  },
  {
   "cell_type": "code",
   "execution_count": 27,
   "id": "d0cc59f2-f2d6-45c1-9f9a-001f85564a34",
   "metadata": {},
   "outputs": [],
   "source": []
  },
  {
   "cell_type": "code",
   "execution_count": 28,
   "id": "6e4b5a4f-5a37-4be5-b19d-670018addd73",
   "metadata": {},
   "outputs": [
    {
     "data": {
      "text/html": [
       "<div>\n",
       "<style scoped>\n",
       "    .dataframe tbody tr th:only-of-type {\n",
       "        vertical-align: middle;\n",
       "    }\n",
       "\n",
       "    .dataframe tbody tr th {\n",
       "        vertical-align: top;\n",
       "    }\n",
       "\n",
       "    .dataframe thead th {\n",
       "        text-align: right;\n",
       "    }\n",
       "</style>\n",
       "<table border=\"1\" class=\"dataframe\">\n",
       "  <thead>\n",
       "    <tr style=\"text-align: right;\">\n",
       "      <th></th>\n",
       "      <th>clean_content</th>\n",
       "      <th>no_of_total_word</th>\n",
       "      <th>no_of_sentences</th>\n",
       "    </tr>\n",
       "  </thead>\n",
       "  <tbody>\n",
       "  </tbody>\n",
       "</table>\n",
       "</div>"
      ],
      "text/plain": [
       "Empty DataFrame\n",
       "Columns: [clean_content, no_of_total_word, no_of_sentences]\n",
       "Index: []"
      ]
     },
     "execution_count": 28,
     "metadata": {},
     "output_type": "execute_result"
    }
   ],
   "source": []
  },
  {
   "cell_type": "code",
   "execution_count": null,
   "id": "783a2d09-594d-4d7b-b075-71c33f59f873",
   "metadata": {},
   "outputs": [],
   "source": []
  }
 ],
 "metadata": {
  "kernelspec": {
   "display_name": "Python 3 (ipykernel)",
   "language": "python",
   "name": "python3"
  },
  "language_info": {
   "codemirror_mode": {
    "name": "ipython",
    "version": 3
   },
   "file_extension": ".py",
   "mimetype": "text/x-python",
   "name": "python",
   "nbconvert_exporter": "python",
   "pygments_lexer": "ipython3",
   "version": "3.9.13"
  }
 },
 "nbformat": 4,
 "nbformat_minor": 5
}
